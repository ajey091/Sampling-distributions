{
 "cells": [
  {
   "cell_type": "markdown",
   "metadata": {},
   "source": [
    "Q 1 - remove vowels from a string"
   ]
  },
  {
   "cell_type": "code",
   "execution_count": 6,
   "metadata": {},
   "outputs": [
    {
     "data": {
      "text/plain": [
       "'bcd'"
      ]
     },
     "execution_count": 6,
     "metadata": {},
     "output_type": "execute_result"
    }
   ],
   "source": [
    "def remove_vowels(s):\n",
    "    vowels = {'a','e','i','o','u'}\n",
    "    s2 = ''\n",
    "    for c in s:\n",
    "        if c not in vowels:\n",
    "            s2 += c\n",
    "    return s2\n"
   ]
  },
  {
   "cell_type": "markdown",
   "metadata": {},
   "source": [
    "What if we want to do the above in-place?\n",
    "we would want to use a moving pointer. start at the top of the string and "
   ]
  },
  {
   "cell_type": "code",
   "execution_count": 54,
   "metadata": {},
   "outputs": [
    {
     "data": {
      "text/plain": [
       "'bcfsdd'"
      ]
     },
     "execution_count": 54,
     "metadata": {},
     "output_type": "execute_result"
    }
   ],
   "source": [
    "def remove_vowels(s):\n",
    "    vowels = {'a','e','i','o','u'}\n",
    "    i = 0\n",
    "    j = 0\n",
    "    for c in s:\n",
    "        if c not in vowels:\n",
    "            s = s[:j] + c\n",
    "            j += 1\n",
    "    \n",
    "    return s[:j]\n",
    "\n",
    "remove_vowels('abcefesdd')"
   ]
  },
  {
   "cell_type": "markdown",
   "metadata": {},
   "source": [
    "Q2 - change the first letter of a string inplace"
   ]
  },
  {
   "cell_type": "code",
   "execution_count": 7,
   "metadata": {},
   "outputs": [
    {
     "data": {
      "text/plain": [
       "'kjey'"
      ]
     },
     "execution_count": 7,
     "metadata": {},
     "output_type": "execute_result"
    }
   ],
   "source": [
    "def change_first_letter(s):\n",
    "    return 'k'+s[1:]\n",
    "\n",
    "change_first_letter('Ajey')"
   ]
  },
  {
   "cell_type": "markdown",
   "metadata": {},
   "source": [
    "Generate pareto distribution, plot pdf. Create a bootstrapped sample from a pareto distribution. How many samples do you need before CLT kicks in?"
   ]
  },
  {
   "cell_type": "code",
   "execution_count": 13,
   "metadata": {},
   "outputs": [
    {
     "data": {
      "image/png": "[encoded data removed]",
      "text/plain": [
       "<Figure size 720x576 with 1 Axes>"
      ]
     },
     "metadata": {
      "needs_background": "light"
     },
     "output_type": "display_data"
    }
   ],
   "source": [
    "import scipy.stats\n",
    "import numpy as np\n",
    "import matplotlib.pyplot as plt\n",
    "\n",
    "p = scipy.stats.pareto(2)\n",
    "xvals = np.linspace(1,10,1000)\n",
    "p_pdf = p.pdf(xvals)\n",
    "\n",
    "fig, ax = plt.subplots(figsize=(10, 8))\n",
    "plt.plot(xvals,p_pdf)\n",
    "plt.show()"
   ]
  },
  {
   "cell_type": "code",
   "execution_count": 15,
   "metadata": {},
   "outputs": [
    {
     "data": {
      "image/png": "[encoded data removed]",
      "text/plain": [
       "<Figure size 432x288 with 1 Axes>"
      ]
     },
     "metadata": {
      "needs_background": "light"
     },
     "output_type": "display_data"
    }
   ],
   "source": [
    "sample = p.rvs(1000)\n",
    "plt.hist(sample,20)\n",
    "plt.show()"
   ]
  },
  {
   "cell_type": "code",
   "execution_count": 24,
   "metadata": {},
   "outputs": [
    {
     "data": {
      "image/png": "[encoded data removed]",
      "text/plain": [
       "<Figure size 432x288 with 1 Axes>"
      ]
     },
     "metadata": {
      "needs_background": "light"
     },
     "output_type": "display_data"
    },
    {
     "name": "stdout",
     "output_type": "stream",
     "text": [
      "NormaltestResult(statistic=29.288874448938756, pvalue=4.3651756389001346e-07)\n"
     ]
    }
   ],
   "source": [
    "means = []\n",
    "for iter in range(1000):\n",
    "    curr_sample = np.random.choice(sample,1000,replace=True)\n",
    "    means.append(np.mean(curr_sample))\n",
    "    \n",
    "plt.hist(means,20)\n",
    "plt.show()"
   ]
  },
  {
   "cell_type": "code",
   "execution_count": 47,
   "metadata": {},
   "outputs": [
    {
     "name": "stdout",
     "output_type": "stream",
     "text": [
      "CLT holds at num samples = 38\n",
      "\n"
     ]
    },
    {
     "name": "stderr",
     "output_type": "stream",
     "text": [
      "C:\\Users\\Owner\\Anaconda3\\lib\\site-packages\\scipy\\stats\\stats.py:1450: UserWarning: kurtosistest only valid for n>=20 ... continuing anyway, n=10\n",
      "  \"anyway, n=%i\" % int(n))\n"
     ]
    }
   ],
   "source": [
    "means = []\n",
    "for var_iter in range(10,200):\n",
    "    for iter in range(var_iter):\n",
    "        curr_sample = np.random.choice(sample,1000,replace=True)\n",
    "        means.append(np.mean(curr_sample))\n",
    "    k = scipy.stats.normaltest(means)\n",
    "    if k[1] < 0.005:\n",
    "        print (f'CLT holds at num samples = {var_iter}')\n",
    "        break\n",
    "print()"
   ]
  },
  {
   "cell_type": "markdown",
   "metadata": {},
   "source": [
    "Write code to test whether the mean is > 2, not equal to 2\n",
    "Depends on number of samples. Let's assume we do not know the population statistic. "
   ]
  },
  {
   "cell_type": "code",
   "execution_count": 48,
   "metadata": {},
   "outputs": [
    {
     "data": {
      "text/plain": [
       "Ttest_1sampResult(statistic=38.57786828333898, pvalue=6.528990121454015e-175)"
      ]
     },
     "execution_count": 48,
     "metadata": {},
     "output_type": "execute_result"
    }
   ],
   "source": [
    "ttest = scipy.stats.ttest_1samp(means,2)\n",
    "ttest\n"
   ]
  },
  {
   "cell_type": "code",
   "execution_count": null,
   "metadata": {},
   "outputs": [],
   "source": []
  }
 ],
 "metadata": {
  "kernelspec": {
   "display_name": "Python 3",
   "language": "python",
   "name": "python3"
  },
  "language_info": {
   "codemirror_mode": {
    "name": "ipython",
    "version": 3
   },
   "file_extension": ".py",
   "mimetype": "text/x-python",
   "name": "python",
   "nbconvert_exporter": "python",
   "pygments_lexer": "ipython3",
   "version": "3.7.4"
  }
 },
 "nbformat": 4,
 "nbformat_minor": 2
}
